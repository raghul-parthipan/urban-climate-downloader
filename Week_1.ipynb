{
 "cells": [
  {
   "cell_type": "markdown",
   "metadata": {},
   "source": [
    "## Week 1##"
   ]
  },
  {
   "cell_type": "markdown",
   "metadata": {},
   "source": [
    "Here, we produce histograms showing the average temperatures for a given time period in different areas"
   ]
  },
  {
   "cell_type": "markdown",
   "metadata": {},
   "source": [
    "### Using Xarray to import ###"
   ]
  },
  {
   "cell_type": "code",
   "execution_count": 2,
   "metadata": {},
   "outputs": [],
   "source": [
    "import matplotlib.pyplot as plt\n",
    "import pandas as pd"
   ]
  },
  {
   "cell_type": "code",
   "execution_count": 3,
   "metadata": {},
   "outputs": [],
   "source": [
    "import xarray as xr\n",
    "path = 'data/riskindex/netcdf/max_temperature/'"
   ]
  },
  {
   "cell_type": "code",
   "execution_count": 4,
   "metadata": {},
   "outputs": [
    {
     "data": {
      "text/plain": [
       "<xarray.DataArray 'MX2T' (time: 13870)>\n",
       "array([273.09656, 273.35147, 283.5008 , ..., 280.2819 , 284.54987, 285.18195],\n",
       "      dtype=float32)\n",
       "Coordinates:\n",
       "    day_of_year  (time) int64 ...\n",
       "    surface      float32 ...\n",
       "    year         (time) int64 ...\n",
       "  * time         (time) datetime64[ns] 1980-01-01 1980-01-02 ... 2017-12-31\n",
       "    lon          float64 ...\n",
       "    lat          float64 ...\n",
       "Attributes:\n",
       "    long_name:     Maximum 2 metre temperature since previous post-processing\n",
       "    units:         K\n",
       "    cell_methods:  day_of_year: year: maximum\n",
       "    city:          London\n",
       "    rcp:           None\n",
       "    model_type:    era"
      ]
     },
     "execution_count": 4,
     "metadata": {},
     "output_type": "execute_result"
    }
   ],
   "source": [
    "#load 'observed' temperatures for LONDON\n",
    "data_era = xr.open_dataarray(path + 'London_ERAI.nc')\n",
    "data_era"
   ]
  },
  {
   "cell_type": "markdown",
   "metadata": {},
   "source": [
    "### Converting to pandas dataframe ### "
   ]
  },
  {
   "cell_type": "code",
   "execution_count": 5,
   "metadata": {},
   "outputs": [
    {
     "data": {
      "text/html": [
       "<div>\n",
       "<style scoped>\n",
       "    .dataframe tbody tr th:only-of-type {\n",
       "        vertical-align: middle;\n",
       "    }\n",
       "\n",
       "    .dataframe tbody tr th {\n",
       "        vertical-align: top;\n",
       "    }\n",
       "\n",
       "    .dataframe thead th {\n",
       "        text-align: right;\n",
       "    }\n",
       "</style>\n",
       "<table border=\"1\" class=\"dataframe\">\n",
       "  <thead>\n",
       "    <tr style=\"text-align: right;\">\n",
       "      <th></th>\n",
       "      <th>data</th>\n",
       "    </tr>\n",
       "    <tr>\n",
       "      <th>time</th>\n",
       "      <th></th>\n",
       "    </tr>\n",
       "  </thead>\n",
       "  <tbody>\n",
       "    <tr>\n",
       "      <td>1980-01-01</td>\n",
       "      <td>273.096558</td>\n",
       "    </tr>\n",
       "    <tr>\n",
       "      <td>1980-01-02</td>\n",
       "      <td>273.351471</td>\n",
       "    </tr>\n",
       "    <tr>\n",
       "      <td>1980-01-03</td>\n",
       "      <td>283.500793</td>\n",
       "    </tr>\n",
       "    <tr>\n",
       "      <td>1980-01-04</td>\n",
       "      <td>283.673218</td>\n",
       "    </tr>\n",
       "    <tr>\n",
       "      <td>1980-01-05</td>\n",
       "      <td>279.352417</td>\n",
       "    </tr>\n",
       "  </tbody>\n",
       "</table>\n",
       "</div>"
      ],
      "text/plain": [
       "                  data\n",
       "time                  \n",
       "1980-01-01  273.096558\n",
       "1980-01-02  273.351471\n",
       "1980-01-03  283.500793\n",
       "1980-01-04  283.673218\n",
       "1980-01-05  279.352417"
      ]
     },
     "execution_count": 5,
     "metadata": {},
     "output_type": "execute_result"
    }
   ],
   "source": [
    "from downloader import dataprocessing\n",
    "#ERA-Interim\n",
    "df_era = dataprocessing.da_to_df(data_era)\n",
    "df_era.head()"
   ]
  },
  {
   "cell_type": "code",
   "execution_count": 6,
   "metadata": {},
   "outputs": [
    {
     "data": {
      "text/plain": [
       "(array([   2.,   13.,   41.,  144.,  377.,  691.,  958., 1328., 1599.,\n",
       "        1480., 1306., 1441., 1436., 1263.,  872.,  562.,  233.,   92.,\n",
       "          25.,    7.]),\n",
       " array([267.0666 , 268.9859 , 270.9052 , 272.82452, 274.74384, 276.66315,\n",
       "        278.58243, 280.50174, 282.42105, 284.34036, 286.25967, 288.179  ,\n",
       "        290.0983 , 292.0176 , 293.93692, 295.8562 , 297.7755 , 299.69482,\n",
       "        301.61414, 303.53345, 305.45276], dtype=float32),\n",
       " <a list of 20 Patch objects>)"
      ]
     },
     "execution_count": 6,
     "metadata": {},
     "output_type": "execute_result"
    },
    {
     "data": {
      "image/png": "[encoded data removed]",
      "text/plain": [
       "<Figure size 432x288 with 1 Axes>"
      ]
     },
     "metadata": {
      "needs_background": "light"
     },
     "output_type": "display_data"
    }
   ],
   "source": [
    "plt.figure()\n",
    "plt.hist(df_era['data'], label = 'ERA', bins=20)"
   ]
  },
  {
   "cell_type": "code",
   "execution_count": null,
   "metadata": {},
   "outputs": [],
   "source": []
  },
  {
   "cell_type": "code",
   "execution_count": 7,
   "metadata": {},
   "outputs": [
    {
     "data": {
      "image/png": "[encoded data removed]",
      "text/plain": [
       "<Figure size 432x288 with 1 Axes>"
      ]
     },
     "metadata": {
      "needs_background": "light"
     },
     "output_type": "display_data"
    }
   ],
   "source": [
    "df_era['temp_celcius'] = df_era['data'] - 273\n",
    "df_past = df_era['1980-01-01':'1990-01-01']\n",
    "df_present = df_era['2007-12-31':'2017-12-31']\n",
    "\n",
    "\n",
    "plt.figure()\n",
    "plt.hist(df_past.temp_celcius, label = '1980-1990', bins=20, alpha = 0.8)\n",
    "plt.hist(df_present.temp_celcius, label = '2008-2018', bins=20, alpha = 0.8)\n",
    "plt.ylabel('Frequency')\n",
    "plt.xlabel('Maximum Daily Temperature (C)')\n",
    "plt.title('London')\n",
    "plt.legend()\n",
    "plt.show()\n",
    "#can copy code\n"
   ]
  },
  {
   "cell_type": "code",
   "execution_count": null,
   "metadata": {},
   "outputs": [],
   "source": []
  }
 ],
 "metadata": {
  "kernelspec": {
   "display_name": "Python 3",
   "language": "python",
   "name": "python3"
  },
  "language_info": {
   "codemirror_mode": {
    "name": "ipython",
    "version": 3
   },
   "file_extension": ".py",
   "mimetype": "text/x-python",
   "name": "python",
   "nbconvert_exporter": "python",
   "pygments_lexer": "ipython3",
   "version": "3.7.3"
  }
 },
 "nbformat": 4,
 "nbformat_minor": 2
}
