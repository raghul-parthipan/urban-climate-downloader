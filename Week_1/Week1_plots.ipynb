{
 "cells": [
  {
   "cell_type": "markdown",
   "metadata": {},
   "source": [
    "## Week 1##"
   ]
  },
  {
   "cell_type": "markdown",
   "metadata": {},
   "source": [
    "### Using Xarray to import ###"
   ]
  },
  {
   "cell_type": "code",
   "execution_count": 1,
   "metadata": {},
   "outputs": [],
   "source": [
    "import matplotlib.pyplot as plt\n",
    "import pandas as pd\n",
    "import numpy as np\n",
    "import seaborn as sns\n",
    "sns.set()\n",
    "import xarray as xr\n"
   ]
  },
  {
   "cell_type": "code",
   "execution_count": 6,
   "metadata": {},
   "outputs": [],
   "source": [
    "path = '../data/riskindex/netcdf/max_temperature/'"
   ]
  },
  {
   "cell_type": "code",
   "execution_count": 8,
   "metadata": {},
   "outputs": [
    {
     "data": {
      "text/html": [
       "<pre>&lt;xarray.DataArray (time: 13870)&gt;\n",
       "array([284.25812, 281.57172, 280.14166, ..., 285.6272 , 285.39752, 282.95285],\n",
       "      dtype=float32)\n",
       "Coordinates:\n",
       "    surface      float32 ...\n",
       "  * time         (time) datetime64[ns] 1980-01-01 1980-01-02 ... 2017-12-31\n",
       "    day_of_year  (time) int64 ...\n",
       "    year         (time) int64 ...\n",
       "    lon          float64 ...\n",
       "    lat          float64 ...\n",
       "Attributes:\n",
       "    long_name:     Maximum 2 metre temperature since previous post-processing\n",
       "    units:         K\n",
       "    cell_methods:  day_of_year: year: maximum\n",
       "    city:          Madrid\n",
       "    rcp:           None\n",
       "    model_type:    era</pre>"
      ],
      "text/plain": [
       "<xarray.DataArray (time: 13870)>\n",
       "array([284.25812, 281.57172, 280.14166, ..., 285.6272 , 285.39752, 282.95285],\n",
       "      dtype=float32)\n",
       "Coordinates:\n",
       "    surface      float32 ...\n",
       "  * time         (time) datetime64[ns] 1980-01-01 1980-01-02 ... 2017-12-31\n",
       "    day_of_year  (time) int64 ...\n",
       "    year         (time) int64 ...\n",
       "    lon          float64 ...\n",
       "    lat          float64 ...\n",
       "Attributes:\n",
       "    long_name:     Maximum 2 metre temperature since previous post-processing\n",
       "    units:         K\n",
       "    cell_methods:  day_of_year: year: maximum\n",
       "    city:          Madrid\n",
       "    rcp:           None\n",
       "    model_type:    era"
      ]
     },
     "execution_count": 8,
     "metadata": {},
     "output_type": "execute_result"
    }
   ],
   "source": [
    "#load 'observed' temperatures for LONDON\n",
    "data_era = xr.open_dataarray(path + 'Madrid_ERAI.nc')\n",
    "data_era"
   ]
  },
  {
   "cell_type": "code",
   "execution_count": 9,
   "metadata": {},
   "outputs": [
    {
     "data": {
      "text/html": [
       "<pre>&lt;xarray.DataArray (time: 25915)&gt;\n",
       "array([287.283813, 285.842689, 283.586381, ..., 282.861178, 279.959751,\n",
       "       281.916748])\n",
       "Coordinates:\n",
       "  * time     (time) datetime64[ns] 1980-01-01 1980-01-02 ... 2050-12-31\n",
       "    lon      float64 ...\n",
       "    lat      float64 ...\n",
       "Attributes:\n",
       "    standard_name:  air_temperature\n",
       "    long_name:      Daily Maximum Near-Surface Air Temperature\n",
       "    units:          K\n",
       "    original_name:  mo: m01s03i236\n",
       "    cell_methods:   time: maximum\n",
       "    cell_measures:  area: areacella\n",
       "    city:           Madrid\n",
       "    rcp:            rcp45\n",
       "    model_type:     gcm</pre>"
      ],
      "text/plain": [
       "<xarray.DataArray (time: 25915)>\n",
       "array([287.283813, 285.842689, 283.586381, ..., 282.861178, 279.959751,\n",
       "       281.916748])\n",
       "Coordinates:\n",
       "  * time     (time) datetime64[ns] 1980-01-01 1980-01-02 ... 2050-12-31\n",
       "    lon      float64 ...\n",
       "    lat      float64 ...\n",
       "Attributes:\n",
       "    standard_name:  air_temperature\n",
       "    long_name:      Daily Maximum Near-Surface Air Temperature\n",
       "    units:          K\n",
       "    original_name:  mo: m01s03i236\n",
       "    cell_methods:   time: maximum\n",
       "    cell_measures:  area: areacella\n",
       "    city:           Madrid\n",
       "    rcp:            rcp45\n",
       "    model_type:     gcm"
      ]
     },
     "execution_count": 9,
     "metadata": {},
     "output_type": "execute_result"
    }
   ],
   "source": [
    "# Load climate model temperature\n",
    "data_gcm = xr.open_dataarray(path + 'Madrid_rcp45.nc')\n",
    "data_gcm"
   ]
  },
  {
   "cell_type": "markdown",
   "metadata": {},
   "source": [
    "### Converting to pandas dataframe ### "
   ]
  },
  {
   "cell_type": "code",
   "execution_count": null,
   "metadata": {},
   "outputs": [],
   "source": [
    "cd ../"
   ]
  },
  {
   "cell_type": "code",
   "execution_count": 35,
   "metadata": {},
   "outputs": [
    {
     "data": {
      "text/html": [
       "<div>\n",
       "<style scoped>\n",
       "    .dataframe tbody tr th:only-of-type {\n",
       "        vertical-align: middle;\n",
       "    }\n",
       "\n",
       "    .dataframe tbody tr th {\n",
       "        vertical-align: top;\n",
       "    }\n",
       "\n",
       "    .dataframe thead th {\n",
       "        text-align: right;\n",
       "    }\n",
       "</style>\n",
       "<table border=\"1\" class=\"dataframe\">\n",
       "  <thead>\n",
       "    <tr style=\"text-align: right;\">\n",
       "      <th></th>\n",
       "      <th>data</th>\n",
       "      <th>temp_celcius</th>\n",
       "    </tr>\n",
       "    <tr>\n",
       "      <th>time</th>\n",
       "      <th></th>\n",
       "      <th></th>\n",
       "    </tr>\n",
       "  </thead>\n",
       "  <tbody>\n",
       "    <tr>\n",
       "      <td>1980-01-01</td>\n",
       "      <td>284.258118</td>\n",
       "      <td>11.258118</td>\n",
       "    </tr>\n",
       "    <tr>\n",
       "      <td>1980-01-02</td>\n",
       "      <td>281.571716</td>\n",
       "      <td>8.571716</td>\n",
       "    </tr>\n",
       "    <tr>\n",
       "      <td>1980-01-03</td>\n",
       "      <td>280.141663</td>\n",
       "      <td>7.141663</td>\n",
       "    </tr>\n",
       "    <tr>\n",
       "      <td>1980-01-04</td>\n",
       "      <td>280.547821</td>\n",
       "      <td>7.547821</td>\n",
       "    </tr>\n",
       "    <tr>\n",
       "      <td>1980-01-05</td>\n",
       "      <td>279.989441</td>\n",
       "      <td>6.989441</td>\n",
       "    </tr>\n",
       "  </tbody>\n",
       "</table>\n",
       "</div>"
      ],
      "text/plain": [
       "                  data  temp_celcius\n",
       "time                                \n",
       "1980-01-01  284.258118     11.258118\n",
       "1980-01-02  281.571716      8.571716\n",
       "1980-01-03  280.141663      7.141663\n",
       "1980-01-04  280.547821      7.547821\n",
       "1980-01-05  279.989441      6.989441"
      ]
     },
     "execution_count": 35,
     "metadata": {},
     "output_type": "execute_result"
    }
   ],
   "source": [
    "from downloader import dataprocessing\n",
    "#ERA-Interim\n",
    "df_era = dataprocessing.da_to_df(data_era)\n",
    "df_era['temp_celcius'] = df_era['data'] - 273\n",
    "df_era.head()"
   ]
  },
  {
   "cell_type": "code",
   "execution_count": 68,
   "metadata": {},
   "outputs": [
    {
     "data": {
      "text/html": [
       "<div>\n",
       "<style scoped>\n",
       "    .dataframe tbody tr th:only-of-type {\n",
       "        vertical-align: middle;\n",
       "    }\n",
       "\n",
       "    .dataframe tbody tr th {\n",
       "        vertical-align: top;\n",
       "    }\n",
       "\n",
       "    .dataframe thead th {\n",
       "        text-align: right;\n",
       "    }\n",
       "</style>\n",
       "<table border=\"1\" class=\"dataframe\">\n",
       "  <thead>\n",
       "    <tr style=\"text-align: right;\">\n",
       "      <th></th>\n",
       "      <th>data</th>\n",
       "      <th>temp_celcius</th>\n",
       "    </tr>\n",
       "    <tr>\n",
       "      <th>time</th>\n",
       "      <th></th>\n",
       "      <th></th>\n",
       "    </tr>\n",
       "  </thead>\n",
       "  <tbody>\n",
       "    <tr>\n",
       "      <td>1980-01-01</td>\n",
       "      <td>287.283813</td>\n",
       "      <td>14.283813</td>\n",
       "    </tr>\n",
       "    <tr>\n",
       "      <td>1980-01-02</td>\n",
       "      <td>285.842689</td>\n",
       "      <td>12.842689</td>\n",
       "    </tr>\n",
       "    <tr>\n",
       "      <td>1980-01-03</td>\n",
       "      <td>283.586381</td>\n",
       "      <td>10.586381</td>\n",
       "    </tr>\n",
       "    <tr>\n",
       "      <td>1980-01-04</td>\n",
       "      <td>282.834330</td>\n",
       "      <td>9.834330</td>\n",
       "    </tr>\n",
       "    <tr>\n",
       "      <td>1980-01-05</td>\n",
       "      <td>281.538216</td>\n",
       "      <td>8.538216</td>\n",
       "    </tr>\n",
       "  </tbody>\n",
       "</table>\n",
       "</div>"
      ],
      "text/plain": [
       "                  data  temp_celcius\n",
       "time                                \n",
       "1980-01-01  287.283813     14.283813\n",
       "1980-01-02  285.842689     12.842689\n",
       "1980-01-03  283.586381     10.586381\n",
       "1980-01-04  282.834330      9.834330\n",
       "1980-01-05  281.538216      8.538216"
      ]
     },
     "execution_count": 68,
     "metadata": {},
     "output_type": "execute_result"
    }
   ],
   "source": [
    "# GCM\n",
    "df_gcm = dataprocessing.da_to_df(data_gcm)\n",
    "df_gcm['temp_celcius'] = df_gcm['data'] - 273\n",
    "df_gcm.head()"
   ]
  },
  {
   "cell_type": "markdown",
   "metadata": {},
   "source": [
    "### Bias Correction ###"
   ]
  },
  {
   "cell_type": "code",
   "execution_count": 39,
   "metadata": {},
   "outputs": [],
   "source": [
    "df_era_past30 = df_era['1980-01-01':'2010-12-31'] #past and future period have the same number of years (30 here)\n",
    "df_gcm_past30 = df_gcm['1980-01-01':'2010-12-31']\n",
    "df_gcm_fut30 = df_gcm['2020-01-01':'2050-12-31']"
   ]
  },
  {
   "cell_type": "code",
   "execution_count": 79,
   "metadata": {},
   "outputs": [],
   "source": [
    "o_ref = df_era_past30['temp_celcius'].copy()\n",
    "t_ref = df_gcm_past30['temp_celcius'].copy()\n",
    "t_raw = df_gcm_fut30['temp_celcius'].copy()\n",
    "\n",
    "o_ref_datashift = t_raw - t_raw.to_numpy() + o_ref.to_numpy()  #what is this doing -> shifting the o_ref times from the ref to the future\n",
    "\n",
    "\n",
    "o_ref_mean = df_era_past30.temp_celcius.mean()\n",
    "t_ref_mean = df_gcm_past30.temp_celcius.mean()\n",
    "t_raw_mean = df_gcm_fut30.temp_celcius.mean()\n",
    "\n",
    "o_ref_std = df_era_past30.temp_celcius.std()\n",
    "t_ref_std = df_gcm_past30.temp_celcius.std()\n",
    "t_raw_std = df_gcm_fut30.temp_celcius.std()"
   ]
  },
  {
   "cell_type": "code",
   "execution_count": 59,
   "metadata": {},
   "outputs": [],
   "source": [
    "t_sh = t_raw + (o_ref_mean - t_ref_mean)\n",
    "t_bc = o_ref_mean + (o_ref_std / t_ref_std) * (t_raw - t_ref_mean)\n",
    "t_del = o_ref_datashift + (t_raw_mean - t_ref_mean)\n",
    "t_cf = t_raw + (t_raw_std / t_ref_std) * (o_ref_datashift - t_ref_mean)\n"
   ]
  },
  {
   "cell_type": "code",
   "execution_count": 86,
   "metadata": {},
   "outputs": [
    {
     "data": {
      "image/png": "[encoded data removed]",
      "text/plain": [
       "<Figure size 936x576 with 4 Axes>"
      ]
     },
     "metadata": {
      "needs_background": "light"
     },
     "output_type": "display_data"
    }
   ],
   "source": [
    "mybins = np.arange(-4,40,1)\n",
    "\n",
    "\n",
    "fig, ax = plt.subplots(4,1,figsize = (13,8))\n",
    "\n",
    "fig.text(0.04, 0.5, 'Frequency', va='center', rotation='vertical')\n",
    "plt.xlabel('Maximum Daily Temperature (°C)')\n",
    "fig.suptitle('Madrid: Past vs Future', fontsize=30, x = 0.25, y =0.94)\n",
    "\n",
    "for axis in ax:\n",
    "    axis.axvline(x = 30, c = 'black')\n",
    "    axis.hist(df_era_past30.temp_celcius, label = '1980-2010 (ERA)', alpha = 1, bins=mybins)\n",
    "\n",
    "\n",
    "ax[0].hist(t_sh, label = '2020-2050 (GCM RCP 4.5 SH)', alpha = 0.6, bins = mybins)\n",
    "\n",
    "ax[1].hist(t_bc, label = '2020-2050 (GCM RCP 4.5 BC)', alpha = 0.6, bins = mybins)\n",
    "\n",
    "ax[2].hist(t_del, label = '2020-2050 (GCM RCP 4.5 DEL)', alpha = 0.6, bins = mybins)\n",
    "\n",
    "ax[3].hist(t_cf, label = '2020-2050 (GCM RCP 4.5 CF)', alpha = 0.6, bins = mybins)\n",
    "\n",
    "for axis in ax:\n",
    "    axis.legend(loc = 'upper left')\n",
    "\n",
    "\n",
    "plt.rc('font', size=20)\n",
    "plt.rc('axes', labelsize=20) \n",
    "plt.show()\n"
   ]
  },
  {
   "cell_type": "code",
   "execution_count": 87,
   "metadata": {},
   "outputs": [],
   "source": [
    "fig.savefig('madrid_future.png', dpi=160, bbox_inches='tight', transparent=True)\n"
   ]
  },
  {
   "cell_type": "code",
   "execution_count": null,
   "metadata": {},
   "outputs": [],
   "source": []
  }
 ],
 "metadata": {
  "kernelspec": {
   "display_name": "Python 3",
   "language": "python",
   "name": "python3"
  },
  "language_info": {
   "codemirror_mode": {
    "name": "ipython",
    "version": 3
   },
   "file_extension": ".py",
   "mimetype": "text/x-python",
   "name": "python",
   "nbconvert_exporter": "python",
   "pygments_lexer": "ipython3",
   "version": "3.7.4"
  }
 },
 "nbformat": 4,
 "nbformat_minor": 2
}
